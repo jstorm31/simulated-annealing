{
 "cells": [
  {
   "cell_type": "code",
   "execution_count": 1,
   "metadata": {},
   "outputs": [],
   "source": [
    "inputs = ['wuf20-88-A1', 'wuf20-78-M1', 'wuf20-78-Q1']\n",
    "solutions = ['wuf20-88-A-opt.dat', 'wuf20-78-M-opt.dat', 'wuf20-78-Q-opt.dat']"
   ]
  },
  {
   "cell_type": "code",
   "execution_count": 2,
   "metadata": {},
   "outputs": [],
   "source": [
    "def create_cmd(input_file, solution_file, temperature):\n",
    "    return 'swift run SimulatedAnnealing --problem mwsat -c 10 --initial-temperature %d -i ~/FIT/KOP/simulated-annealing/Data/SAT/%s -s ~/FIT/KOP/simulated-annealing/Data/SAT/%s' % (temperature, input_file, solution_file)"
   ]
  },
  {
   "cell_type": "code",
   "execution_count": 5,
   "metadata": {},
   "outputs": [
    {
     "name": "stdout",
     "output_type": "stream",
     "text": [
      "Running instance wuf20-88-A1, temperature 32\n",
      "Running instance wuf20-78-M1, temperature 32\n",
      "Running instance wuf20-78-Q1, temperature 32\n"
     ]
    }
   ],
   "source": [
    "results = []\n",
    "initial_temperatures = [32]\n",
    "\n",
    "!touch \"results.json\"\n",
    "\n",
    "def save():\n",
    "    json = '[ ' + ', '.join(results) + ' ]'\n",
    "    text_file = open(\"results.json\", \"w\")\n",
    "    text_file.write(json)\n",
    "    text_file.close()\n",
    "\n",
    "for i in range(3):\n",
    "    for temperature in initial_temperatures:\n",
    "        cmd = create_cmd(inputs[i], solutions[i], temperature)\n",
    "        print(\"Running instance %s, temperature %d\" % (inputs[i], temperature))\n",
    "        res = !$cmd 2> /dev/null\n",
    "        try:\n",
    "            results.append(res[0])\n",
    "        except:\n",
    "            print(res)\n",
    "            save()\n",
    "\n",
    "save()"
   ]
  },
  {
   "cell_type": "code",
   "execution_count": null,
   "metadata": {},
   "outputs": [],
   "source": []
  }
 ],
 "metadata": {
  "kernelspec": {
   "display_name": "Python 3",
   "language": "python",
   "name": "python3"
  },
  "language_info": {
   "codemirror_mode": {
    "name": "ipython",
    "version": 3
   },
   "file_extension": ".py",
   "mimetype": "text/x-python",
   "name": "python",
   "nbconvert_exporter": "python",
   "pygments_lexer": "ipython3",
   "version": "3.8.6"
  }
 },
 "nbformat": 4,
 "nbformat_minor": 4
}
