{
 "cells": [
  {
   "cell_type": "code",
   "execution_count": 1,
   "metadata": {},
   "outputs": [],
   "source": [
    "inputs = ['wuf20-78-M1', 'wuf20-78-Q1', 'wuf20-88-A1']\n",
    "solutions = ['wuf20-78-M-opt.dat', 'wuf20-78-Q-opt.dat', 'wuf20-88-A-opt.dat']"
   ]
  },
  {
   "cell_type": "code",
   "execution_count": 2,
   "metadata": {},
   "outputs": [],
   "source": [
    "def create_cmd(input_file, solution_file, coef):\n",
    "    return 'swift run SimulatedAnnealing --problem mwsat -c 10 --equilibrium-coefficient %d -i ~/FIT/KOP/simulated-annealing/Data/SAT/%s -s ~/FIT/KOP/simulated-annealing/Data/SAT/%s' % (coef, input_file, solution_file)"
   ]
  },
  {
   "cell_type": "code",
   "execution_count": null,
   "metadata": {},
   "outputs": [],
   "source": [
    "results = []\n",
    "coefs = [16]\n",
    "\n",
    "!touch \"results.json\"\n",
    "\n",
    "def save():\n",
    "    json = '[ ' + ', '.join(results) + ' ]'\n",
    "    text_file = open(\"results.json\", \"w\")\n",
    "    text_file.write(json)\n",
    "    text_file.close()\n",
    "\n",
    "for i in range(1):\n",
    "    for coef in coefs:\n",
    "        cmd = create_cmd(inputs[2], solutions[2], coef)\n",
    "        print(\"Running instance %s, equilibrium coeficient %f\" % (inputs[i], coef))\n",
    "        res = !$cmd 2> /dev/null\n",
    "        try:\n",
    "            results.append(res[0])\n",
    "        except:\n",
    "            print(res)\n",
    "            save()\n",
    "\n",
    "save()"
   ]
  },
  {
   "cell_type": "code",
   "execution_count": null,
   "metadata": {},
   "outputs": [],
   "source": []
  }
 ],
 "metadata": {
  "kernelspec": {
   "display_name": "Python 3",
   "language": "python",
   "name": "python3"
  },
  "language_info": {
   "codemirror_mode": {
    "name": "ipython",
    "version": 3
   },
   "file_extension": ".py",
   "mimetype": "text/x-python",
   "name": "python",
   "nbconvert_exporter": "python",
   "pygments_lexer": "ipython3",
   "version": "3.8.6"
  }
 },
 "nbformat": 4,
 "nbformat_minor": 4
}
